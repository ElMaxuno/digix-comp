{
 "cells": [
  {
   "cell_type": "code",
   "execution_count": 1,
   "metadata": {
    "_cell_guid": "b1076dfc-b9ad-4769-8c92-a6c4dae69d19",
    "_uuid": "8f2839f25d086af736a60e9eeb907d3b93b6e0e5"
   },
   "outputs": [],
   "source": [
    "import numpy as np\n",
    "import pandas as pd \n",
    "import lightgbm as lgb\n",
    "from sklearn.model_selection import StratifiedKFold\n",
    "from sklearn.metrics import roc_auc_score\n",
    "\n",
    "NUM_FOLDS=5\n",
    "RANDOM_STATE = 800\n",
    "\n",
    "\n",
    "#     ░░░░░░░░░░░░        ▒▒▓▓██▓▓▓▓▓▓▓▓▓▓██▓▓▓▓▓▓    ░░░░░░░░░░░░░░        \n",
    "#           ░░░░░░░░░░░░  ██████░░░░░░░░░░░░░░░░  ░░░░░░████░░░░░░░░░░░░░░        \n",
    "#           ░░░░░░░░░░████  ░░░░░░░░░░░░░░░░░░░░░░░░░░░░░░░░████░░░░░░░░          \n",
    "#                   ██░░░░░░░░░░░░░░░░░░░░░░░░░░░░░░░░░░░░░░    ██                \n",
    "#               ░░██    ░░░░░░░░░░░░░░░░░░░░░░░░░░░░░░░░░░░░░░░░░░██              \n",
    "#             ██░░░░░░░░░░░░░░░░░░░░░░░░░░░░░░░░░░░░░░░░░░░░░░░░░░░░░░██          \n",
    "#               ██░░░░░░░░░░░░░░░░░░░░░░░░░░░░░░░░░░░░░░░░░░░░░░░░░░██            \n",
    "#             ██░░░░░░░░░░░░░░░░░░░░░░░░░░░░░░░░░░░░░░░░░░░░░░░░░░░░░░██          \n",
    "#           ██░░░░░░░░░░░░░░░░░░░░░░░░░░░░░░░░░░░░░░░░░░░░░░░░░░░░░░░░░░▓▓        \n",
    "#           ██░░░░░░░░░░░░░░░░░░░░░░░░░░░░░░░░░░░░░░░░░░░░░░░░░░░░░░░░░░██        \n",
    "#           ██░░░░░░░░░░░░░░░░░░░░░░░░░░░░░░░░░░░░░░░░░░░░░░░░░░░░░░░░░░██        \n",
    "#         ██░░░░░░░░░░░░░░░░░░░░░░░░░░░░░░░░░░░░░░░░░░░░░░░░░░░░░░░░░░░░░░██      \n",
    "#         ██░░░░░░░░░░░░░░░░░░░░░░░░░░░░░░░░░░░░░░░░░░░░░░░░░░░░░░░░    ░░██      \n",
    "#         ██░░░░░░░░░░░░░░░░░░░░░░░░░░░░░░░░░░░░░░░░░░░░░░░░░░░░  ░░    ░░██      \n",
    "#         ██░░░░░░░░░░░░░░░░░░░░░░░░░░░░░░░░░░░░░░░░░░░░░░░░░░░░░░░░░░░░░░██      \n",
    "#       ▓▓░░░░░░████░░▓▓▓▓░░░░░░░░░░░░░░░░░░░░░░░░░░░░░░░░░░░░▓▓░░░░░░░░░░▒▒▓▓    \n",
    "#       ██░░▒▒▓▓▒▒▒▒██▒▒▒▒██░░░░░░░░░░░░░░░░░░░░░░░░░░░░░░░░░░██░░░░░░░░░░░░██    \n",
    "#       ██▒▒░░██▒▒▒▒▒▒▒▒▒▒██░░░░░░░░░░░░░░▓▓░░░░░░░░░░░░░░░░░░██░░░░░░░░░░░░██    \n",
    "#       ██░░░░▒▒██▒▒▒▒▒▒██░░░░░░░░░░░░░░░░██░░░░░░░░░░░░░░░░░░██░░░░░░░░░░░░██    \n",
    "#       ██░░░░░░░░██████▒▒░░░░░░░░░░░░░░██░░░░░░░░░░░░░░░░░░██░░██░░░░░░░░░░██    \n",
    "#       ██░░░░░░░░░░░░░░░░░░██░░░░░░░░░░██░░░░░░░░░░░░░░░░▒▒▓▓░░██░░░░░░░░░░██    \n",
    "#       ██░░░░░░░░▒▒░░░░░░░░██░░░░░░░░░░██░░░░░░░░░░░░░░░░██░░░░██░░░░░░░░░░██    \n",
    "#       ██▒▒▒▒▒▒▒▒▒▒▒▒▒▒▒▒▒▒██▒▒▓▓▓▓▓▓▓▓░░▓▓▓▓▓▓▓▓▓▓▓▓▓▓▓▓██░░░░██▓▓▒▒▒▒▒▒▒▒██    \n",
    "#       ██▒▒▒▒▒▒▒▒▒▒▒▒▓▓▒▒▒▒██▓▓░░░░░░▒▒░░░░░░░░░░░░░░░░░░░░░░░░░░░░▓▓▓▓▒▒▒▒██    \n",
    "#       ██▒▒▒▒▒▒▒▒▒▒▒▒██▒▒▒▒██░░████████░░░░░░░░░░░░░░░░░░░░████████  ██▒▒▒▒██    \n",
    "#       ██▒▒▒▒▒▒▒▒▒▒████▒▒▒▒████████████░░░░░░░░░░░░░░░░░░░░████████████▒▒▒▒██    \n",
    "#       ██▒▒▒▒▒▒▒▒██  ██▒▒▒▒██  ████████░░░░░░░░░░░░░░░░░░░░████████  ██▒▒▒▒██    \n",
    "#       ██▒▒▒▒▒▒▒▒██░░██▒▒▒▒██  ████████░░░░░░░░░░░░░░░░░░░░████████  ██▒▒▒▒██    \n",
    "#       ██▒▒▒▒▒▒▒▒██░░██▒▒▒▒██▒▒▓▓  ░░██░░░░░░░░░░░░░░░░░░░░██░░░░██▒▒██▒▒▒▒██    \n",
    "#       ██▒▒▒▒▒▒▒▒██░░██▒▒▒▒██▒▒▒▒████░░░░░░░░░░░░░░░░░░░░░░░░▓▓▓▓▒▒▒▒██▒▒▒▒██    \n",
    "#       ██▒▒▒▒▒▒▒▒██░░██▒▒▒▒██▒▒▒▒░░░░░░░░░░░░░░░░░░░░░░░░░░░░░░░░▒▒▒▒██▒▒▒▒██    \n",
    "#       ██▒▒▒▒▒▒▒▒▒▒▓▓██▒▒▒▒██░░░░░░░░░░░░░░░░░░░░░░░░░░░░░░░░░░░░░░▓▓▒▒▒▒▒▒██    \n",
    "#       ██▒▒▒▒▒▒▒▒▒▒▒▒██▒▒▒▒██░░░░░░░░░░░░░░░░░░░░░░░░░░░░░░░░░░░░░░██▒▒▒▒▒▒██    \n",
    "#       ██▒▒▒▒▒▒▒▒▒▒▒▒▒▒██▒▒██████░░░░░░░░░░░░░░██░░░░░░░░░░░░░░░░██▒▒▒▒▒▒▒▒██    \n",
    "#       ██▒▒▒▒▒▒▒▒▒▒▒▒▒▒██▒▒██▒▒▒▒██████░░░░░░░░░░░░░░░░░░░░██████▒▒▒▒▒▒▒▒▒▒██    \n",
    "#       ██▒▒▒▒▒▒▒▒▒▒▒▒▒▒▒▒████▒▒▒▒▒▒▒▒██░░░░████████████████▒▒▒▒▒▒▒▒▒▒▒▒▒▒▒▒██    \n",
    "#       ██▒▒▒▒▒▒▒▒▒▒▒▒▒▒▒▒▒▒▒▒██▒▒▒▒▒▒██░░░░░░██▒▒▒▒▒▒▒▒▒▒▒▒▒▒▒▒▒▒▒▒▒▒▒▒▒▒▒▒██    \n",
    "#       ██▒▒▒▒▒▒▒▒▒▒▒▒▒▒▒▒▒▒▒▒▒▒████████░░░░░░██████▒▒▒▒▒▒▒▒▒▒▒▒▒▒▒▒▒▒▒▒▒▒▓▓░░    \n",
    "#       ░░██▒▒▒▒██▒▒▒▒▒▒▒▒▒▒▓▓▓▓▓▓▓▓▓▓██░░░░░░██▓▓▓▓▓▓▓▓▒▒▒▒▒▒▒▒▒▒▒▒▒▒▒▒▒▒██    "
   ]
  },
  {
   "cell_type": "code",
   "execution_count": 3,
   "metadata": {},
   "outputs": [],
   "source": [
    "def negative_downsample(df, target, neg_frac = .1):\n",
    "    # Negative downsampling\n",
    "    df_pos = df[df[target]==1]\n",
    "    df_neg = df[df[target]==0]\n",
    "    \n",
    "    df_neg = df_neg.sample(int(df.shape[0] * neg_frac), random_state=42)\n",
    "    return pd.concat([df_pos,df_neg]).sort_index()"
   ]
  },
  {
   "cell_type": "code",
   "execution_count": 4,
   "metadata": {
    "_cell_guid": "79c7e3d0-c299-4dcb-8224-4455121ee9b0",
    "_uuid": "d629ff2d2480ee46fbb7e2d37f6b5fab8052498a"
   },
   "outputs": [],
   "source": [
    "dtypes = {'label': 'int8',\n",
    " 'uid': 'int32',\n",
    " 'task_id': 'int16',\n",
    " 'adv_id': 'int16',\n",
    " 'creat_type_cd': 'int8',\n",
    " 'adv_prim_id': 'int16',\n",
    " 'dev_id': 'int8',\n",
    " 'inter_type_cd': 'int8',\n",
    " 'slot_id': 'int8',\n",
    " 'spread_app_id': 'int8',\n",
    " 'tags': 'int8',\n",
    " 'app_first_class': 'int8',\n",
    " 'app_second_class': 'int8',\n",
    " 'age': 'int8',\n",
    " 'city': 'int16',\n",
    " 'city_rank': 'int8',\n",
    " 'device_name': 'int8',\n",
    " 'device_size': 'int16',\n",
    " 'career': 'int8',\n",
    " 'gender': 'int8',\n",
    " 'net_type': 'int8',\n",
    " 'residence': 'int8',\n",
    " 'his_app_size': 'int8',\n",
    " 'his_on_shelf_time': 'int8',\n",
    " 'app_score': 'int8',\n",
    " 'emui_dev': 'int8',\n",
    " 'list_time': 'int8',\n",
    " 'device_price': 'int8',\n",
    " 'up_life_duration': 'int8',\n",
    " 'up_membership_grade': 'int8',\n",
    " 'membership_life_duration': 'int8',\n",
    " 'consume_purchase': 'int8',\n",
    " 'communication_onlinerate': 'object',\n",
    " 'communication_avgonline_30d': 'int8',\n",
    " 'indu_name': 'int8',\n",
    " 'pt_d': 'int8'}"
   ]
  },
  {
   "cell_type": "code",
   "execution_count": 5,
   "metadata": {},
   "outputs": [],
   "source": [
    "train_df  = pd.read_csv('train_data/train_data.csv', sep=\"|\",dtype = dtypes )\n",
    "test_df = pd.read_csv('test_data_A.csv', sep=\"|\",dtype = dtypes) \n",
    "\n",
    "#frenquecy encoding\n",
    "ENC_COLS = ['uid','task_id','adv_id','creat_type_cd','adv_prim_id','dev_id','inter_type_cd','slot_id','spread_app_id']\n",
    "cols_to_enc =  pd.concat([train_df[ENC_COLS], test_df[ENC_COLS]])\n",
    "for col in cols_to_enc.columns:\n",
    "    \n",
    "    enc_nom_1 = cols_to_enc.groupby(col).size().reset_index()\n",
    "    enc_nom_1.columns = [f'{col}_freq' if x==0 else x for x in enc_nom_1.columns]\n",
    "    train_df = pd.merge(train_df,enc_nom_1.reset_index(), on= col)\n",
    "    test_df = pd.merge(test_df,enc_nom_1.reset_index(), on= col)\n",
    "\n",
    "\n",
    "del enc_nom_1,cols_to_enc"
   ]
  },
  {
   "cell_type": "code",
   "execution_count": 6,
   "metadata": {},
   "outputs": [
    {
     "data": {
      "text/plain": [
       "Index(['id', 'uid', 'task_id', 'adv_id', 'creat_type_cd', 'adv_prim_id',\n",
       "       'dev_id', 'inter_type_cd', 'slot_id', 'spread_app_id', 'tags',\n",
       "       'app_first_class', 'app_second_class', 'age', 'city', 'city_rank',\n",
       "       'device_name', 'device_size', 'career', 'gender', 'net_type',\n",
       "       'residence', 'his_app_size', 'his_on_shelf_time', 'app_score',\n",
       "       'emui_dev', 'list_time', 'device_price', 'up_life_duration',\n",
       "       'up_membership_grade', 'membership_life_duration', 'consume_purchase',\n",
       "       'communication_onlinerate', 'communication_avgonline_30d', 'indu_name',\n",
       "       'pt_d', 'index_x', 'uid_freq', 'index_y', 'task_id_freq', 'index_x',\n",
       "       'adv_id_freq', 'index_y', 'creat_type_cd_freq', 'index_x',\n",
       "       'adv_prim_id_freq', 'index_y', 'dev_id_freq', 'index_x',\n",
       "       'inter_type_cd_freq', 'index_y', 'slot_id_freq', 'index',\n",
       "       'spread_app_id_freq'],\n",
       "      dtype='object')"
      ]
     },
     "execution_count": 6,
     "metadata": {},
     "output_type": "execute_result"
    }
   ],
   "source": [
    "test_df.columns"
   ]
  },
  {
   "cell_type": "code",
   "execution_count": 7,
   "metadata": {},
   "outputs": [
    {
     "data": {
      "text/plain": [
       "Index(['label', 'uid', 'task_id', 'adv_id', 'creat_type_cd', 'adv_prim_id',\n",
       "       'dev_id', 'inter_type_cd', 'slot_id', 'spread_app_id', 'tags',\n",
       "       'app_first_class', 'app_second_class', 'age', 'city', 'city_rank',\n",
       "       'device_name', 'device_size', 'career', 'gender', 'net_type',\n",
       "       'residence', 'his_app_size', 'his_on_shelf_time', 'app_score',\n",
       "       'emui_dev', 'list_time', 'device_price', 'up_life_duration',\n",
       "       'up_membership_grade', 'membership_life_duration', 'consume_purchase',\n",
       "       'communication_onlinerate', 'communication_avgonline_30d', 'indu_name',\n",
       "       'pt_d', 'index_x', 'uid_freq', 'index_y', 'task_id_freq', 'index_x',\n",
       "       'adv_id_freq', 'index_y', 'creat_type_cd_freq', 'index_x',\n",
       "       'adv_prim_id_freq', 'index_y', 'dev_id_freq', 'index_x',\n",
       "       'inter_type_cd_freq', 'index_y', 'slot_id_freq', 'index',\n",
       "       'spread_app_id_freq'],\n",
       "      dtype='object')"
      ]
     },
     "execution_count": 7,
     "metadata": {},
     "output_type": "execute_result"
    }
   ],
   "source": [
    "train_df.columns"
   ]
  },
  {
   "cell_type": "code",
   "execution_count": 8,
   "metadata": {},
   "outputs": [],
   "source": [
    "#фичи\n",
    "mean_cols = []\n",
    "FEATS = [i+'_meaned' for i in mean_cols]+['age','city_rank','uid_freq' ,'task_id_freq','adv_id_freq',\n",
    "        'creat_type_cd_freq', 'adv_prim_id_freq']\n",
    "PARAMS = {  'learning_rate':0.05, 'max_bin': 100, 'max_depth': -1, 'min_child_samples': 5000,\n",
    "        'n_estimators': 200,\n",
    "        'num_leaves': 3,'objective': 'binary', 'n_jobs': -1,'subsample':.7,'boost_from_average': False}\n"
   ]
  },
  {
   "cell_type": "code",
   "execution_count": 9,
   "metadata": {},
   "outputs": [
    {
     "name": "stderr",
     "output_type": "stream",
     "text": [
      "/opt/conda/lib/python3.7/site-packages/lightgbm/engine.py:148: UserWarning: Found `n_estimators` in params. Will use it instead of argument\n",
      "  warnings.warn(\"Found `{}` in params. Will use it instead of argument\".format(alias))\n"
     ]
    },
    {
     "name": "stdout",
     "output_type": "stream",
     "text": [
      "fold 0 AUC: 0.7965368483198736\n"
     ]
    },
    {
     "name": "stderr",
     "output_type": "stream",
     "text": [
      "/opt/conda/lib/python3.7/site-packages/lightgbm/engine.py:148: UserWarning: Found `n_estimators` in params. Will use it instead of argument\n",
      "  warnings.warn(\"Found `{}` in params. Will use it instead of argument\".format(alias))\n"
     ]
    },
    {
     "name": "stdout",
     "output_type": "stream",
     "text": [
      "fold 1 AUC: 0.7973656141752996\n"
     ]
    },
    {
     "name": "stderr",
     "output_type": "stream",
     "text": [
      "/opt/conda/lib/python3.7/site-packages/lightgbm/engine.py:148: UserWarning: Found `n_estimators` in params. Will use it instead of argument\n",
      "  warnings.warn(\"Found `{}` in params. Will use it instead of argument\".format(alias))\n"
     ]
    },
    {
     "name": "stdout",
     "output_type": "stream",
     "text": [
      "fold 2 AUC: 0.7973659263133424\n"
     ]
    },
    {
     "name": "stderr",
     "output_type": "stream",
     "text": [
      "/opt/conda/lib/python3.7/site-packages/lightgbm/engine.py:148: UserWarning: Found `n_estimators` in params. Will use it instead of argument\n",
      "  warnings.warn(\"Found `{}` in params. Will use it instead of argument\".format(alias))\n"
     ]
    },
    {
     "name": "stdout",
     "output_type": "stream",
     "text": [
      "fold 3 AUC: 0.795947573715771\n"
     ]
    },
    {
     "name": "stderr",
     "output_type": "stream",
     "text": [
      "/opt/conda/lib/python3.7/site-packages/lightgbm/engine.py:148: UserWarning: Found `n_estimators` in params. Will use it instead of argument\n",
      "  warnings.warn(\"Found `{}` in params. Will use it instead of argument\".format(alias))\n"
     ]
    },
    {
     "name": "stdout",
     "output_type": "stream",
     "text": [
      "fold 4 AUC: 0.7973898355151467\n",
      "AUC mean 0.7969211596078866 std 0.0005849066671261657\n"
     ]
    }
   ],
   "source": [
    "folds = StratifiedKFold(n_splits=NUM_FOLDS,shuffle=True,random_state=RANDOM_STATE)\n",
    "results = []\n",
    "oof_preds = []\n",
    "predictions_test = np.zeros_like(test_df['uid']).astype(np.float64)\n",
    "for i, (train_idx,val_idx) in enumerate(folds.split(train_df,train_df.label)):\n",
    "    X_train_part, X_val_part =  train_df.loc[train_idx] , train_df.loc[val_idx]\n",
    "    \n",
    "    for col in [i for i in train_df.columns if i not in FEATS+['label']]:\n",
    "        try:\n",
    "            del X_train_part[col], X_val_part[col]\n",
    "        except KeyError:\n",
    "            pass\n",
    "    \n",
    "    \n",
    "    X_train_part = negative_downsample(X_train_part , 'label')\n",
    "    train_data = lgb.Dataset(X_train_part.drop('label',axis=1)[FEATS], label=X_train_part.label, free_raw_data=True)\n",
    "    aa = lgb.train(PARAMS,train_data)\n",
    "    preds = aa.predict(X_val_part.drop('label',axis=1)[FEATS])\n",
    "    predictions_test += aa.predict(test_df[FEATS])\n",
    "    oof_preds.append(preds)\n",
    "    result = roc_auc_score(X_val_part.label,preds)\n",
    "    results.append(result)\n",
    "    print(f'fold {i} AUC: {result}')\n",
    "predictions_test/=NUM_FOLDS\n",
    "print(f'AUC mean {np.mean(results)} std { np.std(results)}')"
   ]
  },
  {
   "cell_type": "code",
   "execution_count": 10,
   "metadata": {},
   "outputs": [],
   "source": [
    "#сохраняем предикшоны\n",
    "test_df['probability'] = predictions_test\n",
    "test_df[['id','probability']].set_index('id').to_csv(f'{np.mean(results)}.csv')\n",
    "\n",
    "#OOF\n",
    "index = [list(folds.split(train_df,train_df.label))[i][1] for i in range(NUM_FOLDS)]\n",
    "dfs = [np.array([index[i],oof_preds[i]]).T for i in range(len(index))]\n",
    "dfs = np.concatenate(dfs,axis=0)\n",
    "train_df['probability'] = pd.DataFrame(dfs,columns=['index', 'probability']).sort_values(by='index').set_index('index',drop=True)['probability']\n",
    "train_df[['probability']].to_csv(f'OOF{np.mean(results)}.csv')"
   ]
  }
 ],
 "metadata": {
  "environment": {
   "name": "tf2-gpu.2-1.m50",
   "type": "gcloud",
   "uri": "gcr.io/deeplearning-platform-release/tf2-gpu.2-1:m50"
  },
  "kernelspec": {
   "display_name": "Python 3",
   "language": "python",
   "name": "python3"
  },
  "language_info": {
   "codemirror_mode": {
    "name": "ipython",
    "version": 3
   },
   "file_extension": ".py",
   "mimetype": "text/x-python",
   "name": "python",
   "nbconvert_exporter": "python",
   "pygments_lexer": "ipython3",
   "version": "3.7.6"
  }
 },
 "nbformat": 4,
 "nbformat_minor": 4
}
